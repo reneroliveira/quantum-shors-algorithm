{
 "cells": [
  {
   "cell_type": "markdown",
   "metadata": {},
   "source": [
    "# Quantum Fourier Transform"
   ]
  },
  {
   "cell_type": "markdown",
   "metadata": {},
   "source": [
    "The Quantum Fourier Transform is just a change of basis, from the computational basis to Fourier one. It takes a quantum state $\\vert x \\rangle = \\vert x_1\\ldots x_n \\rangle$ and maps it to:\n",
    "\n",
    "$$\\underbrace{\\vert \\tilde x\\rangle}_{\\text{Fourier basis}}=QFT_N \\vert x \\rangle =  \\dfrac{1}{\\sqrt{N}} \\sum_{y=0}^{N-1} e^{2 \\pi i xy / N} \\vert y \\rangle$$\n",
    "\n",
    "Where $N=2^n$ ($n$ = number of qubits) and $\\vert y\\rangle$ is representing its respective binary quantum state $\\vert y_1y_2\\ldots y_n\\rangle$, with $y_i\\in\\{0,1\\}$."
   ]
  },
  {
   "cell_type": "markdown",
   "metadata": {},
   "source": [
    "## Examples"
   ]
  },
  {
   "cell_type": "markdown",
   "metadata": {},
   "source": [
    "Let's begin with the 1-qubit case, where $N=2^1$:\n",
    "\n",
    "\\begin{align*}\n",
    "\\vert \\tilde 0 \\rangle&=\\dfrac{1}{\\sqrt2}\\displaystyle\\sum_{y=0}^{1}e^{2\\pi i (0)y/2}\\vert y\\rangle\\\\\n",
    "&=\\dfrac{1}{\\sqrt2}\\displaystyle\\sum_{y=0}^{1}\\vert y\\rangle\\\\\n",
    "&=\\dfrac{1}{\\sqrt2}(\\vert 0\\rangle + \\vert 1\\rangle)\\\\\n",
    "&=\\vert + \\rangle\n",
    "\\end{align*}\n",
    "\n",
    "\\begin{align*}\n",
    "\\vert \\tilde 1 \\rangle&=\\dfrac{1}{\\sqrt2}\\displaystyle\\sum_{y=0}^{1}e^{2\\pi i (1)y/2}\\vert y\\rangle\\\\\n",
    "&=\\dfrac{1}{\\sqrt2}\\left(e^{2\\pi i(0)/2}\\vert 0\\rangle+e^{2\\pi i(1)/2}\\vert 1\\rangle\\right)\\\\\n",
    "&=\\dfrac{1}{\\sqrt2}(\\vert 0\\rangle + (-1)\\vert 1\\rangle)\\\\\n",
    "&=\\dfrac{1}{\\sqrt2}(\\vert 0\\rangle -\\vert 1\\rangle\\\\\n",
    "&=\\vert - \\rangle\n",
    "\\end{align*}\n",
    "\n",
    "So states $\\vert0\\rangle$ and $\\vert1\\rangle$ are mapped to states $\\vert+\\rangle$ and $\\vert-\\rangle$ respectively. That's what Hadamard gate does! Geometrically, this transformation brings the z-axis poles states to the x-axis poles in the Bloch sphere.\n",
    "\n",
    "[Qiskit Textbook](further.md) have a nice animation which helps build intuition of what QFT does in the general case. A four-qubit state $\\vert x\\rangle = \\vert x_1x_2x_3x_4\\rangle$ is stored using $\\vert0\\rangle$ and $\\vert1\\rangle$ in the computational basis. Observe that the leftmost qubit ($x_4$) flips with with every number increment, the next (qubit 1, $x_3$) flips with 2 number increments, qubit 2 ($x_2$) flips after 4 turns, and so on.\n",
    "\n",
    "![](images/zbasis-counting.gif)\n",
    "\n",
    "In the Fourier basis, all states are on the equatorial plane. The leftmost is rotated $2\\pi/16$ radians by number increment, the next qubit ($x_3$) rotates $2\\pi/8$ per time, $x_2$ rotates $2\\pi/4$ and $x_1$ with an angle of $2\\pi/2=\\pi$ radians. We are doubling the angle of rotation on each qubit.\n",
    "\n",
    "![](images/fourierbasis-counting.gif)"
   ]
  },
  {
   "cell_type": "markdown",
   "metadata": {},
   "source": []
  },
  {
   "cell_type": "code",
   "execution_count": null,
   "metadata": {},
   "outputs": [],
   "source": []
  },
  {
   "cell_type": "code",
   "execution_count": null,
   "metadata": {},
   "outputs": [],
   "source": []
  },
  {
   "cell_type": "markdown",
   "metadata": {},
   "source": [
    "![](images/qft.png)"
   ]
  },
  {
   "cell_type": "code",
   "execution_count": 5,
   "metadata": {},
   "outputs": [],
   "source": [
    "import numpy as np\n",
    "from numpy import pi\n",
    "warnings.filterwarnings(\"ignore\")\n",
    "# importing Qiskit\n",
    "from qiskit import QuantumCircuit, transpile, assemble, Aer, IBMQ\n",
    "from qiskit.providers.ibmq import least_busy\n",
    "from qiskit.tools.monitor import job_monitor\n",
    "from qiskit.visualization import plot_histogram, plot_bloch_multivector\n",
    "import warnings"
   ]
  },
  {
   "cell_type": "code",
   "execution_count": 2,
   "metadata": {},
   "outputs": [],
   "source": [
    "qc = QuantumCircuit(3)"
   ]
  },
  {
   "cell_type": "code",
   "execution_count": 3,
   "metadata": {},
   "outputs": [
    {
     "data": {
      "text/html": [
       "<pre style=\"word-wrap: normal;white-space: pre;background: #fff0;line-height: 1.1;font-family: &quot;Courier New&quot;,Courier,monospace\">          \n",
       "q_0: ─────\n",
       "          \n",
       "q_1: ─────\n",
       "     ┌───┐\n",
       "q_2: ┤ H ├\n",
       "     └───┘</pre>"
      ],
      "text/plain": [
       "          \n",
       "q_0: ─────\n",
       "          \n",
       "q_1: ─────\n",
       "     ┌───┐\n",
       "q_2: ┤ H ├\n",
       "     └───┘"
      ]
     },
     "execution_count": 3,
     "metadata": {},
     "output_type": "execute_result"
    }
   ],
   "source": [
    "qc.h(2)\n",
    "qc.draw()"
   ]
  },
  {
   "cell_type": "code",
   "execution_count": 4,
   "metadata": {},
   "outputs": [
    {
     "data": {
      "text/html": [
       "<pre style=\"word-wrap: normal;white-space: pre;background: #fff0;line-height: 1.1;font-family: &quot;Courier New&quot;,Courier,monospace\">                   \n",
       "q_0: ──────────────\n",
       "                   \n",
       "q_1: ──────■───────\n",
       "     ┌───┐ │P(π/2) \n",
       "q_2: ┤ H ├─■───────\n",
       "     └───┘         </pre>"
      ],
      "text/plain": [
       "                   \n",
       "q_0: ──────────────\n",
       "                   \n",
       "q_1: ──────■───────\n",
       "     ┌───┐ │P(π/2) \n",
       "q_2: ┤ H ├─■───────\n",
       "     └───┘         "
      ]
     },
     "execution_count": 4,
     "metadata": {},
     "output_type": "execute_result"
    }
   ],
   "source": [
    "qc.cp(pi/2, 1, 2) # CROT from qubit 1 to qubit 2\n",
    "qc.draw()"
   ]
  }
 ],
 "metadata": {
  "kernelspec": {
   "display_name": "Python 3 (ipykernel)",
   "language": "python",
   "name": "python3"
  },
  "language_info": {
   "codemirror_mode": {
    "name": "ipython",
    "version": 3
   },
   "file_extension": ".py",
   "mimetype": "text/x-python",
   "name": "python",
   "nbconvert_exporter": "python",
   "pygments_lexer": "ipython3",
   "version": "3.8.5"
  }
 },
 "nbformat": 4,
 "nbformat_minor": 4
}
