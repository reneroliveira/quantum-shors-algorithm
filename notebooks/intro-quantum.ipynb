{
 "cells": [
  {
   "cell_type": "markdown",
   "metadata": {},
   "source": [
    "# Introduction to Quantum Computing\n",
    "\n",
    "<!-- Qubits, dirac notation, measurements, bloch sphere, quantum circuits -->\n",
    "\n",
    "In classical computation, states (bits) are either 0 or 1, but quantum mechanics allows superposition of states, so a quantum state can be simultaneously 0 and 1. Such a superposition allows quantum computers to make calculations on more than one state at the same time. That's what makes possible the design of algorithms with exponentially speed-up such as Shor's Algorithm, which reduces to polynomial time, a task that runs in exponential time on classical computers.\n",
    "\n",
    "A quantum state in superposition can be measured, but once we do that, it collapses to one of its states with a given probability. That's what makes the design of quantum algorithms harder than classical ones because we have to draw a system that collapses to what we want with a high probability.\n",
    "\n",
    "This section seeks to introduce just the basic foundations of quantum computing as a background for the following sections. No prerequisite in quantum physics/mechanics is required. We'll present everything from the mathematical point of view, demanding just some prior knowledge in Linear Algebra and Complex Numbers.\n",
    "\n",
    "## Quantum States and Dirac Notation\n",
    "\n",
    "We represent a $n$-qubit quantum state as a normalized vector in $\\mathbb{C}^{2^n}$ (that's it!). Take for example, the single-qubit states $a,b\\in \\mathbb{C}^2$ such that $a=\\left(\\begin{matrix}a_1\\\\ a_2\\end{matrix}\\right)$ and $b=\\left(\\begin{matrix}b_1\\\\ b_2\\end{matrix}\\right)$ with $a_1,a_2,b_1,b_2\\in\\mathbb{C}$. The so called Dirac notation is a shortcut for representing states and operations between them.\n",
    "\n",
    "- **ket:** $\\vert a\\rangle = \\left(\\begin{matrix}a_1\\\\ a_2\\end{matrix}\\right)$\n",
    "\n",
    "The most used notation around this text, it's the way we represent a quantum state.\n",
    "\n",
    "- **bra:** $\\langle b \\vert = \\vert b \\rangle^\\dagger=\\left(\\begin{matrix}b_1\\\\ b_2\\end{matrix}\\right)^\\dagger=\\left(\\begin{matrix}\\overline{b_1}& \\overline b_2\\end{matrix}\\right)$\n",
    "\n",
    "The bra is the conjugate transpose of a state (dagger notation $\\dagger$). $\\overline b_1$ means the complex conjugate of $b_1$.\n",
    "\n",
    "- **bra-ket:** $\\langle b \\vert a\\rangle=a_1\\overline b_1+a_2\\overline b_2$\n",
    "\n",
    "A \"inner product\" between states. Observe that $\\langle b \\vert a\\rangle = \\overline {\\langle a\\vert b \\rangle}$. We say $a$ and $b$ are **orthogonal states** if $\\langle a\\vert b\\rangle = 0$.\n",
    "\n",
    "Not every complex vector can represent quantum states, because they need to be normalized, i.e, all states $\\vert\\psi\\rangle$ must satisfy $\\langle\\psi\\vert\\psi\\rangle=1$. \n",
    "\n",
    "We define states $\\vert0\\rangle := \\left(\\begin{matrix}1\\\\0\\end{matrix}\\right)$ and $\\vert1\\rangle:=\\left(\\begin{matrix}0\\\\1\\end{matrix}\\right)$. It's easy to see that $\\langle0\\vert1\\rangle=0$, so $\\vert0\\rangle$ and $\\vert1\\rangle$ are orthogonal.\n",
    "\n",
    "The general single-qubit state is then:\n",
    "\n",
    "$$\\vert\\psi\\rangle = \\alpha_0\\vert0\\rangle+\\alpha_1\\vert1\\rangle,$$\n",
    "\n",
    "with $\\alpha_0,\\alpha_1\\in\\mathbb{C}$ and $|\\alpha_0|^2+|\\alpha_1|^2=1$\n",
    "\n",
    "We also define the tensor product of two states as:\n",
    "\n",
    "$$\\vert a\\rangle\\otimes\\vert b\\rangle = \\left(\\begin{matrix}a_1b_1\\\\a_1b_2\\\\a_2b_1\\\\a_2b_2\\end{matrix}\\right)$$\n",
    "\n",
    "This operation generalizes what we're doing in $\\mathbb{C}^2$ to $\\mathbb{C}^{2^n}$. We defines the **n-qubit computational basis** as the set of all $2^n$ possible tensor products of $\\vert0\\rangle$ and $\\vert1\\rangle$. We can also represent tensor product with the notation $\\vert x_1x_2\\ldots x_n\\rangle:=x_1\\otimes x_2\\otimes\\ldots\\otimes x_n$, that's why a $n$-qubit state vector have $2^n$ entries. The 2-qubit computational basis, will be, for example\n",
    "\n",
    "\\begin{align*}\\vert00\\rangle &= \\left(\\begin{matrix}1\\cdot1\\\\1\\cdot0\\\\0\\cdot1\\\\0\\cdot0\\end{matrix}\\right)=\\left(\\begin{matrix}1\\\\0\\\\0\\\\0\\end{matrix}\\right)\\\\\n",
    "\\vert01\\rangle &= \\left(\\begin{matrix}1\\cdot0\\\\1\\cdot1\\\\0\\cdot0\\\\0\\cdot1\\end{matrix}\\right)=\\left(\\begin{matrix}0\\\\1\\\\0\\\\0\\end{matrix}\\right)\\\\\n",
    "\\vert10\\rangle &= \\left(\\begin{matrix}0\\cdot1\\\\0\\cdot0\\\\1\\cdot1\\\\1\\cdot0\\end{matrix}\\right)=\\left(\\begin{matrix}0\\\\0\\\\1\\\\0\\end{matrix}\\right)\\\\\n",
    "\\vert11\\rangle &= \\left(\\begin{matrix}0\\cdot0\\\\0\\cdot1\\\\1\\cdot0\\\\1\\cdot1\\end{matrix}\\right)=\\left(\\begin{matrix}0\\\\0\\\\0\\\\1\\end{matrix}\\right)\\end{align*}\n",
    "\n",
    "Notice the relation between binary form in the final vector, and that this basis is pairwise orthogonal. A general 2-qubit state can then be written in the computational basis as:\n",
    "\n",
    "$$\\vert\\psi\\rangle = \\alpha_0\\vert00\\rangle+\\alpha_1\\vert01\\rangle+\\alpha_2\\vert10\\rangle+\\alpha_3\\vert11\\rangle$$\n",
    "\n",
    "State $\\vert\\psi\\rangle$ is said to be in **superposition** of the states $\\vert00\\rangle,\\vert01\\rangle,\\vert10\\rangle$ and $\\vert11\\rangle$. \n",
    "\n",
    "## Measurements and Born Rule\n",
    "\n",
    "Measuring a state in superposition is the way we can extract and read information about the quantum system. Quantum measurement collapses the state to one of the vectors of its orthogonal basis, with a given probability.\n",
    "\n",
    "From now on, consider $N=2^n$.\n",
    "\n",
    "We can do a projective measure of n-qubit state $\\displaystyle\\vert\\psi\\rangle=\\sum_{x=0}^{N-1}\\alpha_x\\vert x\\rangle$ onto the orthogonal base $\\{\\vert 0\\rangle,\\vert 1\\rangle,\\ldots\\vert N-1\\rangle\\}$. Here, we are commiting an abuse of notation using $\\vert x\\rangle$ (x in base 10) to represent the state $\\vert00\\ldots1\\ldots0\\rangle$, with the $(x+1)^{th}$ entriy being equal 1, and the rest zero.\n",
    "\n",
    "After this procedure, the state will colapse to either one of the $N$ states from the basis, with probability of $|\\langle x\\vert\\psi\\rangle|^2$ of collapsing to $x$. Thats's the so called **Born Rule:**\n",
    "\n",
    "$$\\mathbb{P}(x)=|\\langle x\\vert\\psi\\rangle|^2$$\n",
    "\n",
    "In the case of $\\vert\\psi\\rangle$ written in computational basis, $\\mathbb{P}(x)=|\\alpha_x|^2$. Notice that, since $\\vert\\psi\\rangle$ must be normalized, we'll have $\\displaystyle\\sum_{x=0}^{N-1}\\mathbb{P}(x) = \\sum_{x=0}^{N-1}|\\alpha_x|^2=1$, as expected."
   ]
  },
  {
   "cell_type": "markdown",
   "metadata": {},
   "source": [
    "## The Bloch Sphere\n",
    "\n",
    "We can write a single-qubit pure state as $\\vert\\psi\\rangle=\\cos\\frac \\theta 2\\vert0\\rangle+e^{\\varphi i}\\sin\\frac\\theta2\\vert1\\rangle$ where $\\phi$ is the relative phase of the state, and $\\theta$ describes the probability of measuring basis states, such that $\\mathbb{P}(\\vert0\\rangle)=\\cos^2\\frac\\theta2$ and $\\mathbb{P}(\\vert1\\rangle)=\\sin^2\\frac\\theta2$.\n",
    "\n",
    "All these states can be represented geometrically in the Bloch Sphere, an origin centered unitaty radius sphere, with maps the above state $\\vert\\psi\\rangle$ to the 3D point:\n",
    "\n",
    "$$\\vec r = \\left(\\begin{matrix}\\sin\\theta\\cos\\varphi\\\\\\sin\\theta\\sin\\varphi\\\\\\cos\\theta\\end{matrix}\\right)$$\n",
    "\n",
    "The image below [(ResearchGate)](https://www.researchgate.net/figure/color-online-Bloch-sphere-representation-of-the-Bloch-vector-v-for-qubits-d-2_fig3_316828699), shows the angle scheme and the axis poles states (read $v$ as $\\vert\\psi\\rangle$).\n",
    "\n",
    "We have saw before states $\\vert0\\rangle$ and $\\vert1\\rangle$, but didn't mentioned $\\vert+\\rangle,\\vert-\\rangle$ nor $\\vert+i\\rangle,\\vert-i\\rangle$. They are orthogonal pairs, with the formula shown in the image."
   ]
  },
  {
   "cell_type": "markdown",
   "metadata": {},
   "source": [
    "![](images/blochsphere.png)"
   ]
  },
  {
   "cell_type": "markdown",
   "metadata": {},
   "source": [
    "Let's map these 6 states to its Blch Sphere point.\n",
    "\n",
    "On Z-axis:\n",
    "\n",
    "- $\\vert0\\rangle$: $\\theta=0\\Rightarrow \\vec r = (\\begin{matrix}0 &0 &1\\end{matrix})^T$\n",
    "- $\\vert1\\rangle$: $\\theta=\\pi\\Rightarrow \\vec r = (\\begin{matrix}0 &0 &-1\\end{matrix})^T$\n",
    "\n",
    "On X-axis:\n",
    "\n",
    "- $\\vert+\\rangle$: $\\theta=\\pi/2,\\varphi=0\\Rightarrow \\vec r = \\left(\\begin{matrix}\\sin\\frac\\pi2 \\cos0\\\\\\sin\\frac\\pi2\\sin0 \\\\\\cos\\frac\\pi2\\end{matrix}\\right)=\\left(\\begin{matrix}1 \\\\0 \\\\0\\end{matrix}\\right)$\n",
    "\n",
    "- $\\vert-\\rangle$: $\\theta=\\pi/2,\\varphi=\\pi\\Rightarrow \\vec r = \\left(\\begin{matrix}\\sin\\frac\\pi2 \\cos\\pi\\\\\\sin\\frac\\pi2\\sin\\pi \\\\\\cos\\frac\\pi2\\end{matrix}\\right)=\\left(\\begin{matrix}-1 \\\\0 \\\\0\\end{matrix}\\right)$\n",
    "\n",
    "And analogously (we won't explicit the calculations) on the Y-axis:\n",
    "\n",
    "- $\\vert +i\\rangle\\Rightarrow \\vec r=\\left(\\begin{matrix}0 \\\\1 \\\\0\\end{matrix}\\right)$\n",
    "- $\\vert -i\\rangle\\Rightarrow \\vec r =\\left(\\begin{matrix}0 \\\\-1 \\\\0\\end{matrix}\\right)$\n",
    "\n",
    "Such a geometric intuition will be important in [Quantum Fourier Transform](qft.md) section, specially of the states zero, one, plus and minus."
   ]
  },
  {
   "cell_type": "markdown",
   "metadata": {},
   "source": [
    "## Quantum Circuits\n",
    "\n",
    "Quantum Circuit models are blocks that carry out elementary computational operations, the so called **gates**.\n",
    "\n",
    "In quantum theory, a gate is a unitary operator, i.e, a matrix $U$ such that $U^\\dagger U = I$. See some examples of single-qubit gates:\n",
    "\n",
    "- **(Bit flip)** $\\sigma_x=\\left(\\begin{matrix}0&1\\\\1&0\\end{matrix}\\right)$\n",
    "\n",
    "One can easyly show that $\\sigma_x\\vert0\\rangle = \\vert1\\rangle$ and $\\sigma_x\\vert1\\rangle=\\vert0\\rangle$. In general, this gate performs a rotation around the x-axis by $pi$ radians.\n",
    "\n",
    "- **(Phase flip)** $\\sigma_z=\\left(\\begin{matrix}1&0\\\\ 0&-1\\end{matrix}\\right)$. \n",
    "\n",
    "It's easy to conclude that $\\sigma_z\\vert+\\rangle = \\vert-\\rangle$ and $\\sigma_z\\vert-\\rangle = \\vert+\\rangle$. In general, this gate does a $pi$-radians rotation around the z-axis.\n",
    "\n",
    "- **(Hadamard gate)** The most importante gate of this text:\n",
    "\n",
    "$$H=\\dfrac{1}{\\sqrt2}\\left(\\begin{matrix}1&0\\\\0&-1\\end{matrix}\\right)$$\n",
    "\n",
    "With a rapid calculation we get:\n",
    "\n",
    "\\begin{align*}H\\vert0\\rangle&=\\vert+\\rangle=\\dfrac{1}{\\sqrt2}(\\vert0\\rangle+\\vert1\\rangle)\\\\\n",
    "H\\vert1\\rangle&=\\vert-\\rangle=\\dfrac{1}{\\sqrt2}(\\vert0\\rangle-\\vert1\\rangle)\\end{align*}\n",
    "\n",
    "Notice that this gate created a superposition of states zero and one, with probability 1/2 of measuring each one! That's what makes this gate so important, and we'll use-it a lot in the next sections."
   ]
  },
  {
   "cell_type": "markdown",
   "metadata": {},
   "source": [
    "## Qiskit Introduction\n",
    "\n",
    "[Qiskit](qiskit.org) is a Python library that makes it esier to design and test quantum circuits and algorithms. You can follow the website instrutions to install it on your computer. We are going to create a basic circuit that applies Hadamard gate on $\\vert0\\rangle$, take the measurements and collapses to state zero or one.\n",
    "\n",
    "At first, let's import the required libraries:"
   ]
  },
  {
   "cell_type": "code",
   "execution_count": 20,
   "metadata": {},
   "outputs": [],
   "source": [
    "import warnings\n",
    "warnings.filterwarnings(\"ignore\",category=DeprecationWarning)\n",
    "from qiskit import QuantumCircuit, assemble, Aer\n",
    "from qiskit.visualization import plot_histogram"
   ]
  },
  {
   "cell_type": "markdown",
   "metadata": {},
   "source": [
    "Now lets build and display the circuit diagram:"
   ]
  },
  {
   "cell_type": "code",
   "execution_count": 23,
   "metadata": {},
   "outputs": [
    {
     "data": {
      "text/html": [
       "<pre style=\"word-wrap: normal;white-space: pre;background: #fff0;line-height: 1.1;font-family: &quot;Courier New&quot;,Courier,monospace\">        ┌─────────────────┐┌───┐ ░ ┌─┐\n",
       "   q_0: ┤ Initialize(1,0) ├┤ H ├─░─┤M├\n",
       "        └─────────────────┘└───┘ ░ └╥┘\n",
       "meas: 1/════════════════════════════╩═\n",
       "                                    0 </pre>"
      ],
      "text/plain": [
       "        ┌─────────────────┐┌───┐ ░ ┌─┐\n",
       "   q_0: ┤ Initialize(1,0) ├┤ H ├─░─┤M├\n",
       "        └─────────────────┘└───┘ ░ └╥┘\n",
       "meas: 1/════════════════════════════╩═\n",
       "                                    0 "
      ]
     },
     "execution_count": 23,
     "metadata": {},
     "output_type": "execute_result"
    }
   ],
   "source": [
    "qc = QuantumCircuit(1) # Creates a single-qubit quantum circuit\n",
    "qc.initialize([1,0], 0)  # Define initial_state as |0>\n",
    "qc.h(0) # Applid Hadamard Gate on 0th qubit (in this case, the only one)\n",
    "qc.measure_all() # Adds measurement to all qubits\n",
    "qc.draw()"
   ]
  },
  {
   "cell_type": "markdown",
   "metadata": {},
   "source": [
    "We're going to run this circuit in a quantum simulator, which does not require acess to an actual quantum device:"
   ]
  },
  {
   "cell_type": "code",
   "execution_count": 24,
   "metadata": {},
   "outputs": [
    {
     "data": {
      "image/png": "[encoded data removed]",
      "text/plain": [
       "<Figure size 504x360 with 1 Axes>"
      ]
     },
     "execution_count": 24,
     "metadata": {},
     "output_type": "execute_result"
    }
   ],
   "source": [
    "sim = Aer.get_backend('qasm_simulator')  # Defines the simulator\n",
    "qobj = assemble(qc,shots=1000) # Run 1000 shots of the circuit\n",
    "result = sim.run(qobj).result() #Collect results\n",
    "counts = result.get_counts() # Count results for plotting\n",
    "plot_histogram(counts)"
   ]
  },
  {
   "cell_type": "markdown",
   "metadata": {},
   "source": [
    "As expected, around half of the measurements collapses to $\\vert0\\rangle$ and the other half to $\\vert1\\rangle$. The below table shows the library versions, if you want to reproduce the same environment used in this text."
   ]
  },
  {
   "cell_type": "code",
   "execution_count": 25,
   "metadata": {},
   "outputs": [
    {
     "data": {
      "text/html": [
       "<h3>Version Information</h3><table><tr><th>Qiskit Software</th><th>Version</th></tr><tr><td><code>qiskit-terra</code></td><td>0.18.3</td></tr><tr><td><code>qiskit-aer</code></td><td>0.6.1</td></tr><tr><td><code>qiskit-ignis</code></td><td>0.4.0</td></tr><tr><td><code>qiskit-ibmq-provider</code></td><td>0.8.0</td></tr><tr><td><code>qiskit-aqua</code></td><td>0.7.5</td></tr><tr><td><code>qiskit</code></td><td>0.32.0</td></tr><tr><th>System information</th></tr><tr><td>Python</td><td>3.8.5 (default, Sep  3 2020, 21:29:08) [MSC v.1916 64 bit (AMD64)]</td></tr><tr><td>OS</td><td>Windows</td></tr><tr><td>CPUs</td><td>2</td></tr><tr><td>Memory (Gb)</td><td>15.86971664428711</td></tr><tr><td colspan='2'>Wed Dec 01 21:24:13 2021 Hora oficial do Brasil</td></tr></table>"
      ],
      "text/plain": [
       "<IPython.core.display.HTML object>"
      ]
     },
     "metadata": {},
     "output_type": "display_data"
    }
   ],
   "source": [
    "import qiskit.tools.jupyter\n",
    "%qiskit_version_table"
   ]
  }
 ],
 "metadata": {
  "kernelspec": {
   "display_name": "qiskit_kernel",
   "language": "python",
   "name": "qiskit_kernel"
  },
  "language_info": {
   "codemirror_mode": {
    "name": "ipython",
    "version": 3
   },
   "file_extension": ".py",
   "mimetype": "text/x-python",
   "name": "python",
   "nbconvert_exporter": "python",
   "pygments_lexer": "ipython3",
   "version": "3.8.5"
  }
 },
 "nbformat": 4,
 "nbformat_minor": 4
}
