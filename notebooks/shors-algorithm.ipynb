{
 "cells": [
  {
   "cell_type": "markdown",
   "metadata": {},
   "source": [
    "# Shor's Algorithm\n",
    "\n",
    "<!-- Description of the algorithm, mathematical statements and proofs. -->"
   ]
  },
  {
   "cell_type": "code",
   "execution_count": 1,
   "metadata": {},
   "outputs": [],
   "source": [
    "import markdown\n",
    "md = markdown.Markdown(extensions=['pymdownx.arithmatex'])"
   ]
  },
  {
   "cell_type": "markdown",
   "metadata": {},
   "source": [
    "# Pseudocode"
   ]
  },
  {
   "cell_type": "markdown",
   "metadata": {},
   "source": [
    "Getting straigth to the point, here's how Shor's algorithm works to factor a prime product $N=pq$:\n",
    "\n",
    "1. Pick a random integer $a$ between $0$ and $N-1$;\n",
    "\n",
    "2. Find the smallest $r$ such that $a^r\\equiv 1 ~(mod ~N)$, i.e the period of the function $f(x)=a^x~(mod~N)$;\n",
    "\n",
    "3. If r is odd, get back to step 1\n",
    "\n",
    "4. If $a^{r/2}+1\\equiv 0~(mod~N)$, get back to step 1.\n",
    "\n",
    "5. Then $\\{p,q\\}=\\{\\gcd(a^{r/2}-1,N),\\gcd(a^{r/2}+1,N)\\}$."
   ]
  },
  {
   "cell_type": "code",
   "execution_count": null,
   "metadata": {},
   "outputs": [],
   "source": []
  }
 ],
 "metadata": {
  "kernelspec": {
   "display_name": "Python 3 (ipykernel)",
   "language": "python",
   "name": "python3"
  },
  "language_info": {
   "codemirror_mode": {
    "name": "ipython",
    "version": 3
   },
   "file_extension": ".py",
   "mimetype": "text/x-python",
   "name": "python",
   "nbconvert_exporter": "python",
   "pygments_lexer": "ipython3",
   "version": "3.8.5"
  }
 },
 "nbformat": 4,
 "nbformat_minor": 4
}
