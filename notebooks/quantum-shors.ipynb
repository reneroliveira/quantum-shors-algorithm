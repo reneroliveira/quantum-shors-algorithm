{
 "cells": [
  {
   "cell_type": "markdown",
   "metadata": {},
   "source": [
    "# Shor's Algorithm  - Implementation"
   ]
  },
  {
   "cell_type": "markdown",
   "metadata": {},
   "source": [
    "In this section we'll design the algorithm described in [Section 2](shors-algorithm.md), putting together the classical part, and all quantum ingredients we saw in previous sections.\n",
    "\n",
    "In order to design a quantum circuit to return the period $r$ of $f(x)=a^x~(mod~ 15)$, we'll need a [Quantum Phase Estimation Circuit](https://qiskit.org/textbook/ch-algorithms/quantum-phase-estimation.html). Although we didn't covered its details here, we're going to explain what it does and you can see the details in the link provided.\n",
    "\n",
    "What Quantum Phase Estimation (QPE) does is: Given a Unitary operator $U$ and its eigenstate $\\psi$ (an eigenstate is such that $U\\vert\\psi\\rangle=e^{i\\theta_\\psi}\\vert\\psi\\rangle$) returns its phase $\\theta_\\psi$.\n",
    "\n",
    "Actually, what it really does, is collapsing to $2^n\\theta$, considering $U\\vert\\psi\\rangle=e^{2\\pi i\\theta}\\vert\\psi\\rangle$.\n",
    "\n",
    "In the case of factoring, the Unitary operator will be:\n",
    "\n",
    "$$U|y\\rangle \\equiv |ay \\bmod N \\rangle$$\n",
    "\n",
    "with the eigenstates $u_s$ having the phase $2\\pi s/r$:\n",
    "\n",
    "$$\\begin{aligned}\n",
    "|u_s\\rangle &= \\tfrac{1}{\\sqrt{r}}\\sum_{k=0}^{r-1}{e^{-\\tfrac{2\\pi i s k}{r}}|a^k \\bmod N\\rangle}\\\\\n",
    "U|u_s\\rangle &= e^{\\tfrac{2\\pi i s}{r}}|u_s\\rangle \n",
    "\\end{aligned}\n",
    "$$\n",
    "\n",
    "In the below circuit, we'll then measure $2^ns/r$, but the only thing that matters is that $r$ is in the denominator, and we can use continued fraction algorithm to extract it. Python have a built-in library for dealing with fractions, and we'll use it, also as a black box, further details of such algorithm can be found in [(Nielsen & Chuang, 2011)](bib.md). "
   ]
  },
  {
   "cell_type": "markdown",
   "metadata": {},
   "source": [
    "![](images/shor_circuit.png)"
   ]
  },
  {
   "cell_type": "markdown",
   "metadata": {},
   "source": [
    "The circuit is implemented below, we used the modular exponentiation implementation from Qiskit Textbook, and will treat as a black box, since we don't want to enter in quantum efficiency discussion of this process."
   ]
  },
  {
   "cell_type": "code",
   "execution_count": 200,
   "metadata": {},
   "outputs": [],
   "source": [
    "# Imports\n",
    "import warnings\n",
    "warnings.filterwarnings(\"ignore\",category=DeprecationWarning)\n",
    "from qiskit import QuantumCircuit, Aer, assemble, execute,transpile\n",
    "from qiskit.circuit.library import QFT\n",
    "import numpy as np\n",
    "from math import gcd\n",
    "from fractions import Fraction"
   ]
  },
  {
   "cell_type": "code",
   "execution_count": 136,
   "metadata": {},
   "outputs": [],
   "source": [
    "def a_x_mod15(a, x):\n",
    "    if a not in [2,7,8,11,13]:\n",
    "        raise ValueError(\"'a' must be 2,7,8,11 or 13\")\n",
    "    U = QuantumCircuit(4)        \n",
    "    for iteration in range(x):\n",
    "        if a in [2,13]:\n",
    "            U.swap(0,1)\n",
    "            U.swap(1,2)\n",
    "            U.swap(2,3)\n",
    "        if a in [7,8]:\n",
    "            U.swap(2,3)\n",
    "            U.swap(1,2)\n",
    "            U.swap(0,1)\n",
    "        if a == 11:\n",
    "            U.swap(1,3)\n",
    "            U.swap(0,2)\n",
    "        if a in [7,11,13]:\n",
    "            for q in range(4):\n",
    "                U.x(q)\n",
    "    U = U.to_gate()\n",
    "    U.name = \"%i^%i mod 15\" % (a, x)\n",
    "    c_U = U.control()\n",
    "    return c_U\n",
    "\n",
    "def modular_exponentiation(given_circuit, n, m, a):\n",
    "    for x in range(n):\n",
    "        exponent = 2**x\n",
    "        given_circuit.append(a_x_mod15(a, exponent), \n",
    "                     [x] + list(range(n, n+m)))"
   ]
  },
  {
   "cell_type": "code",
   "execution_count": 216,
   "metadata": {},
   "outputs": [],
   "source": [
    "def shor_circuit(a,n,m):\n",
    "    # Input : a - guess for factor of 15\n",
    "    #         n - number of measurements\n",
    "    #         m - number of target qubits\n",
    "    \n",
    "    # Setting up circuit\n",
    "    shor = QuantumCircuit(n+m, n)\n",
    "    \n",
    "    # Initializing firsts n qubits with Hadamard \n",
    "    shor.h(range(n))\n",
    "    # Applying sigma_x gate to last qubit\n",
    "    shor.x(n+m-1)\n",
    "    shor.barrier()\n",
    "    \n",
    "    #Apply modular exponentiation gates\n",
    "    modular_exponentiation(shor, n, m, a)\n",
    "    shor.barrier()\n",
    "    \n",
    "    #Apply inverse QFT\n",
    "    shor.append(QFT(n, do_swaps=False).inverse(), range(n))\n",
    "    \n",
    "    # measure the first n qubits\n",
    "    shor.measure(range(n), range(n))\n",
    "    \n",
    "    return shor"
   ]
  },
  {
   "cell_type": "markdown",
   "metadata": {},
   "source": [
    "See the illustration of the circuit with $a=2$"
   ]
  },
  {
   "cell_type": "code",
   "execution_count": 213,
   "metadata": {},
   "outputs": [
    {
     "data": {
      "text/html": [
       "<pre style=\"word-wrap: normal;white-space: pre;background: #fff0;line-height: 1.1;font-family: &quot;Courier New&quot;,Courier,monospace\">     ┌───┐ ░                                                              ░ »\n",
       "q_0: ┤ H ├─░────────■─────────────────────────────────────────────────────░─»\n",
       "     ├───┤ ░        │                                                     ░ »\n",
       "q_1: ┤ H ├─░────────┼──────────────■──────────────────────────────────────░─»\n",
       "     ├───┤ ░        │              │                                      ░ »\n",
       "q_2: ┤ H ├─░────────┼──────────────┼──────────────■───────────────────────░─»\n",
       "     ├───┤ ░        │              │              │                       ░ »\n",
       "q_3: ┤ H ├─░────────┼──────────────┼──────────────┼──────────────■────────░─»\n",
       "     └───┘ ░ ┌──────┴──────┐┌──────┴──────┐┌──────┴──────┐┌──────┴──────┐ ░ »\n",
       "q_4: ──────░─┤0            ├┤0            ├┤0            ├┤0            ├─░─»\n",
       "           ░ │             ││             ││             ││             │ ░ »\n",
       "q_5: ──────░─┤1            ├┤1            ├┤1            ├┤1            ├─░─»\n",
       "           ░ │  2^1 mod 15 ││  2^2 mod 15 ││  2^4 mod 15 ││  2^8 mod 15 │ ░ »\n",
       "q_6: ──────░─┤2            ├┤2            ├┤2            ├┤2            ├─░─»\n",
       "     ┌───┐ ░ │             ││             ││             ││             │ ░ »\n",
       "q_7: ┤ X ├─░─┤3            ├┤3            ├┤3            ├┤3            ├─░─»\n",
       "     └───┘ ░ └─────────────┘└─────────────┘└─────────────┘└─────────────┘ ░ »\n",
       "c: 4/═══════════════════════════════════════════════════════════════════════»\n",
       "                                                                            »\n",
       "«     ┌───────┐┌─┐         \n",
       "«q_0: ┤0      ├┤M├─────────\n",
       "«     │       │└╥┘┌─┐      \n",
       "«q_1: ┤1      ├─╫─┤M├──────\n",
       "«     │  IQFT │ ║ └╥┘┌─┐   \n",
       "«q_2: ┤2      ├─╫──╫─┤M├───\n",
       "«     │       │ ║  ║ └╥┘┌─┐\n",
       "«q_3: ┤3      ├─╫──╫──╫─┤M├\n",
       "«     └───────┘ ║  ║  ║ └╥┘\n",
       "«q_4: ──────────╫──╫──╫──╫─\n",
       "«               ║  ║  ║  ║ \n",
       "«q_5: ──────────╫──╫──╫──╫─\n",
       "«               ║  ║  ║  ║ \n",
       "«q_6: ──────────╫──╫──╫──╫─\n",
       "«               ║  ║  ║  ║ \n",
       "«q_7: ──────────╫──╫──╫──╫─\n",
       "«               ║  ║  ║  ║ \n",
       "«c: 4/══════════╩══╩══╩══╩═\n",
       "«               0  1  2  3 </pre>"
      ],
      "text/plain": [
       "     ┌───┐ ░                                                              ░ »\n",
       "q_0: ┤ H ├─░────────■─────────────────────────────────────────────────────░─»\n",
       "     ├───┤ ░        │                                                     ░ »\n",
       "q_1: ┤ H ├─░────────┼──────────────■──────────────────────────────────────░─»\n",
       "     ├───┤ ░        │              │                                      ░ »\n",
       "q_2: ┤ H ├─░────────┼──────────────┼──────────────■───────────────────────░─»\n",
       "     ├───┤ ░        │              │              │                       ░ »\n",
       "q_3: ┤ H ├─░────────┼──────────────┼──────────────┼──────────────■────────░─»\n",
       "     └───┘ ░ ┌──────┴──────┐┌──────┴──────┐┌──────┴──────┐┌──────┴──────┐ ░ »\n",
       "q_4: ──────░─┤0            ├┤0            ├┤0            ├┤0            ├─░─»\n",
       "           ░ │             ││             ││             ││             │ ░ »\n",
       "q_5: ──────░─┤1            ├┤1            ├┤1            ├┤1            ├─░─»\n",
       "           ░ │  2^1 mod 15 ││  2^2 mod 15 ││  2^4 mod 15 ││  2^8 mod 15 │ ░ »\n",
       "q_6: ──────░─┤2            ├┤2            ├┤2            ├┤2            ├─░─»\n",
       "     ┌───┐ ░ │             ││             ││             ││             │ ░ »\n",
       "q_7: ┤ X ├─░─┤3            ├┤3            ├┤3            ├┤3            ├─░─»\n",
       "     └───┘ ░ └─────────────┘└─────────────┘└─────────────┘└─────────────┘ ░ »\n",
       "c: 4/═══════════════════════════════════════════════════════════════════════»\n",
       "                                                                            »\n",
       "«     ┌───────┐┌─┐         \n",
       "«q_0: ┤0      ├┤M├─────────\n",
       "«     │       │└╥┘┌─┐      \n",
       "«q_1: ┤1      ├─╫─┤M├──────\n",
       "«     │  IQFT │ ║ └╥┘┌─┐   \n",
       "«q_2: ┤2      ├─╫──╫─┤M├───\n",
       "«     │       │ ║  ║ └╥┘┌─┐\n",
       "«q_3: ┤3      ├─╫──╫──╫─┤M├\n",
       "«     └───────┘ ║  ║  ║ └╥┘\n",
       "«q_4: ──────────╫──╫──╫──╫─\n",
       "«               ║  ║  ║  ║ \n",
       "«q_5: ──────────╫──╫──╫──╫─\n",
       "«               ║  ║  ║  ║ \n",
       "«q_6: ──────────╫──╫──╫──╫─\n",
       "«               ║  ║  ║  ║ \n",
       "«q_7: ──────────╫──╫──╫──╫─\n",
       "«               ║  ║  ║  ║ \n",
       "«c: 4/══════════╩══╩══╩══╩═\n",
       "«               0  1  2  3 "
      ]
     },
     "execution_count": 213,
     "metadata": {},
     "output_type": "execute_result"
    }
   ],
   "source": [
    "n = 4; m = 4; a = 2\n",
    "shor_example = shor_circuit(a,n,m)\n",
    "shor_example.draw()"
   ]
  },
  {
   "cell_type": "markdown",
   "metadata": {},
   "source": [
    "With the circuit implemented, we can follow with further pre-processing and post-processing of Shor's Algorithm. The code below implements the logic of pseudocode in [Section 2](shors-algorithm.md) putting everything we saw together. The code is commented to help interpretation."
   ]
  },
  {
   "cell_type": "code",
   "execution_count": 239,
   "metadata": {},
   "outputs": [
    {
     "name": "stdout",
     "output_type": "stream",
     "text": [
      "Trying a = 7\n",
      " --- order r = 4\n",
      " --- Sucessfully found factors [3, 5]\n"
     ]
    }
   ],
   "source": [
    "# Defining the simulator:\n",
    "backend = Aer.get_backend('qasm_simulator') \n",
    "\n",
    "def factor(N=15,backend=backend):\n",
    "    found_factors = False\n",
    "    n = len(bin(N))-2\n",
    "    m = n\n",
    "    valid_a = [2,7,8,11,13]\n",
    "    while found_factors == False:\n",
    "        # STEP 1: Choose a randomly in valid a's\n",
    "        if len(valid_a)==0:\n",
    "            break\n",
    "        a = np.random.choice(valid_a)\n",
    "        print(f\"Trying a = {a}\")\n",
    "\n",
    "        r = 1 #defining a wrong r\n",
    "        \n",
    "        # STEP 2: Find period r\n",
    "        while a**r%N != 1: #Adding loop because QPE + continued fractions can find wrong r\n",
    "            ## Substep 2.1: Find phase s/r\n",
    "            #Defining Shor's Circuits (QPE):\n",
    "            qc = shor_circuit(a,n,m) \n",
    "            #Doing the measurement (binary):\n",
    "            measure = execute(qc, backend=backend, shots=1,memory=True).result().get_memory()[0]\n",
    "            #Converting to decimal base:\n",
    "            measure = int(measure,2)\n",
    "            phase = measure/(2**(n-1))\n",
    "            ## Substep 2.2: Find denominator r (Continued fraction algorithm)\n",
    "            r = Fraction(phase).limit_denominator(N).denominator\n",
    "            \n",
    "        # STEPS 3 and 4: check if r is even and a^(r/2) != -1 (mod N)\n",
    "        if r%2==0 and (a**(r/2)+1)%N!=0:\n",
    "            #STEP 5: Compute factors\n",
    "            factors = [gcd(a**(r//2)-1,N),gcd(a**(r//2)+1,N)]\n",
    "            print(f\" --- order r = {r}\")\n",
    "            if factors[0] not in [1,N]: # Check to see if factor is a non trivial one\n",
    "                found_factors = True\n",
    "                print(f\" --- Sucessfully found factors {factors}\")\n",
    "            else:\n",
    "                print(f\" --- Trivial factors found: [1,15]\")\n",
    "        if found_factors == False:\n",
    "            print(f\" --- a={a} failed!\")\n",
    "        valid_a.remove(a)\n",
    "factor()"
   ]
  }
 ],
 "metadata": {
  "kernelspec": {
   "display_name": "Python 3 (ipykernel)",
   "language": "python",
   "name": "python3"
  },
  "language_info": {
   "codemirror_mode": {
    "name": "ipython",
    "version": 3
   },
   "file_extension": ".py",
   "mimetype": "text/x-python",
   "name": "python",
   "nbconvert_exporter": "python",
   "pygments_lexer": "ipython3",
   "version": "3.8.5"
  }
 },
 "nbformat": 4,
 "nbformat_minor": 4
}
