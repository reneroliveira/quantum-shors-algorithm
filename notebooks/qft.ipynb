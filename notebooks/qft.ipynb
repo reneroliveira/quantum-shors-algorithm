{
 "cells": [
  {
   "cell_type": "markdown",
   "metadata": {},
   "source": [
    "# Quantum Fourier Transform"
   ]
  },
  {
   "cell_type": "markdown",
   "metadata": {},
   "source": [
    "The Quantum Fourier Transform is just a change of basis, from the computational basis to Fourier one. It takes a quantum state $\\vert x \\rangle = \\vert x_1\\ldots x_n \\rangle$ and maps it to:\n",
    "\n",
    "$$\\underbrace{\\vert \\tilde x\\rangle}_{\\text{Fourier basis}}=QFT_N \\vert x \\rangle =  \\dfrac{1}{\\sqrt{N}} \\sum_{y=0}^{N-1} e^{2 \\pi i xy / N} \\vert y \\rangle$$\n",
    "\n",
    "Where $N=2^n$ ($n$ = number of qubits) and $\\vert y\\rangle$ represents its respective binary quantum state $\\vert y_1y_2\\ldots y_n\\rangle$, with $y_i\\in\\{0,1\\}$. (Actually, the sum $\\sum_{y=0}^{N-1}$ is a shortcut notation for $\\displaystyle\\sum_{y_1=0}^1\\sum_{y_2=0}^{1}\\ldots\\sum_{y_n=0}^{1}$)"
   ]
  },
  {
   "cell_type": "markdown",
   "metadata": {},
   "source": [
    "## Examples"
   ]
  },
  {
   "cell_type": "markdown",
   "metadata": {},
   "source": [
    "Let's begin with the 1-qubit case, where $N=2^1$:\n",
    "\n",
    "\\begin{align*}\n",
    "\\vert \\tilde 0 \\rangle&=\\dfrac{1}{\\sqrt2}\\displaystyle\\sum_{y=0}^{1}e^{2\\pi i (0)y/2}\\vert y\\rangle\\\\\n",
    "&=\\dfrac{1}{\\sqrt2}\\displaystyle\\sum_{y=0}^{1}\\vert y\\rangle\\\\\n",
    "&=\\dfrac{1}{\\sqrt2}(\\vert 0\\rangle + \\vert 1\\rangle)\\\\\n",
    "&=\\vert + \\rangle\n",
    "\\end{align*}\n",
    "\n",
    "\\begin{align*}\n",
    "\\vert \\tilde 1 \\rangle&=\\dfrac{1}{\\sqrt2}\\displaystyle\\sum_{y=0}^{1}e^{2\\pi i (1)y/2}\\vert y\\rangle\\\\\n",
    "&=\\dfrac{1}{\\sqrt2}\\left(e^{2\\pi i(0)/2}\\vert 0\\rangle+e^{2\\pi i(1)/2}\\vert 1\\rangle\\right)\\\\\n",
    "&=\\dfrac{1}{\\sqrt2}(\\vert 0\\rangle + (-1)\\vert 1\\rangle)\\\\\n",
    "&=\\dfrac{1}{\\sqrt2}(\\vert 0\\rangle -\\vert 1\\rangle\\\\\n",
    "&=\\vert - \\rangle\n",
    "\\end{align*}\n",
    "\n",
    "So states $\\vert0\\rangle$ and $\\vert1\\rangle$ are mapped to states $\\vert+\\rangle$ and $\\vert-\\rangle$ respectively. That's what Hadamard gate does! Geometrically, this transformation brings the z-axis poles states to the x-axis poles in the Bloch sphere.\n",
    "\n",
    "[Qiskit Textbook](further.md) have a nice animation which helps build intuition of what QFT does in the general case. A four-qubit state $\\vert x\\rangle = \\vert x_1x_2x_3x_4\\rangle$ is stored using $\\vert0\\rangle$ and $\\vert1\\rangle$ in the computational basis. Observe that the leftmost qubit ($x_4$) flips with with every number increment, the next (qubit 1, $x_3$) flips with 2 number increments, qubit 2 ($x_2$) flips after 4 turns, and so on.\n",
    "\n",
    "![](images/zbasis-counting.gif)\n",
    "\n",
    "In the Fourier basis, all states are on the equatorial plane. The leftmost is rotated $2\\pi/16$ radians by number increment, the next qubit ($x_3$) rotates $2\\pi/8$ per time, $x_2$ rotates $2\\pi/4$ and $x_1$ with an angle of $2\\pi/2=\\pi$ radians. We are doubling the angle of rotation on each qubit.\n",
    "\n",
    "![](images/fourierbasis-counting.gif)"
   ]
  },
  {
   "cell_type": "markdown",
   "metadata": {},
   "source": [
    "## Quantum states math formulation\n",
    "\n",
    "The above animation of quantum states in the Fourier basis can be formalized with a bit of math manipulation on the QFT formula. As we briefly stated before, when we write $\\vert y\\rangle$ we are representing the state $\\vert y_1y_2\\ldots y_n\\rangle$, so $y$ in decimal base is $2^{n-1}y_1+2^{n-2}y_2+\\ldots +2^0y_n$. So replacing $\\vert y\\rangle$ by its decimal representation, and the sum from $0$ to $N-1$ to the binary equivalent, we get:\n",
    "\n",
    "\\begin{align*}\n",
    "QFT_N\\vert x\\rangle & =  \\dfrac{1}{\\sqrt{N}} \\displaystyle\\sum_{y=0}^{N-1} e^{2 \\pi i xy / N} \\vert y \\rangle\\\\\n",
    "&=\\displaystyle\\dfrac{1}{\\sqrt N}\\sum_{y_1=0}^1\\sum_{y_2=0}^{1}\\ldots\\sum_{y_n=0}^{1}\\exp\\left(\\frac{2\\pi ix}{N}\\sum_{k=1}^n2^{n-k}y_k\\right)\\vert y_1y_2\\ldots y_n\\rangle\\\\\n",
    "&=\\dfrac{1}{\\sqrt N}\\sum_{y_1,y_2,\\ldots,y_n}\\prod_{k=1}^n\\exp\\left(\\frac{2\\pi ix}{N}y_k2^{n-k}\\right)\\vert y_1y_2\\ldots y_n\\rangle\\\\\n",
    "&=\\dfrac{1}{\\sqrt N}\\sum_{y_1,y_2,\\ldots,y_n}\\prod_{k=1}^n\\exp\\left(2\\pi ixy_k2^{-k}\\right)\\vert y_1y_2\\ldots y_n\\rangle\n",
    "\\end{align*}"
   ]
  },
  {
   "cell_type": "markdown",
   "metadata": {},
   "source": [
    "By swapping the order of the product and the sum, we got a tensor product:\n",
    "\n",
    "\\begin{align*}\n",
    "&\\dfrac{1}{\\sqrt N}\\bigotimes_{k=1}^n\\left(e^{2\\pi ix(0)2^{-k}}\\vert 0\\rangle + e^{2\\pi ix (1)2^{-k}}\\vert1\\rangle\\right)\\\\\n",
    "&=\\dfrac{1}{\\sqrt N}\\bigotimes_{k=1}^n\\left(\\vert 0\\rangle + e^{2\\pi ix 2^{-k}}\\vert1\\rangle\\right)\\\\\n",
    "&=\\dfrac{1}{\\sqrt N}\\left(\\vert0\\rangle+e^{2\\pi ix/2}\\vert1\\rangle\\right)\\otimes\\left(\\vert0\\rangle+e^{2\\pi ix/4}\\vert1\\rangle\\right)\\otimes\\ldots\\otimes\\left(\\vert0\\rangle+e^{2\\pi i x/2^n}\\vert1\\rangle\\right)\n",
    "\\end{align*}\n",
    "\n",
    "Notice we went from $\\vert x\\rangle = \\vert x_1\\rangle\\otimes\\vert x_2\\rangle\\otimes\\ldots\\otimes\\vert x_n\\rangle$ to the state above, which tells us exatly what the the transform is doing to each entry of $x$. Regard constants, we have:\n",
    "\n",
    "$$\\vert x_k\\rangle \\mapsto \\vert 0\\rangle + e^{2\\pi ix 2^{-k}}\\vert1\\rangle$$\n",
    "\n",
    "Such an operation explains the above animation: the complex exponential term is responsible for the rotation seen. Moreover, this gives us hints for building a quantum circuit to implement QFT since we explicitly know what to do on each qubit."
   ]
  },
  {
   "cell_type": "markdown",
   "metadata": {},
   "source": [
    "## QFT Circuit"
   ]
  },
  {
   "cell_type": "markdown",
   "metadata": {},
   "source": [
    "We'll need two atomic elements for building a circuit that implements QFT: the already known Hadamard gate and the controlled rotation gate.\n",
    "\n",
    "We know that \n",
    "\n",
    "$$H\\vert0\\rangle=\\frac{1}{\\sqrt2}(\\vert0\\rangle+\\vert1\\rangle)$$ and $$H\\vert1\\rangle=\\frac{1}{\\sqrt2}(\\vert0\\rangle-\\vert1\\rangle)$$\n",
    "\n",
    "We can also write Hadamard operation acting on $x_k\\in\\{0,1\\}$ as:\n",
    "\n",
    "$$H\\vert x_k\\rangle\\dfrac{1}{\\sqrt2}\\left(\\vert0\\rangle+e^{2\\pi i x_k/2}\\vert1\\rangle\\right)$$\n",
    "\n",
    "The other element, controlled rotation acts on two-qubit states $\\vert x_ix_j\\rangle$ and is based on the following unitary operator:\n",
    "\n",
    "$$UROT_k = \\left[\\begin{matrix}\n",
    "1&0\\\\\n",
    "0&e^{2\\pi i/2^k}\\\\\n",
    "\\end{matrix}\\right]\n",
    "$$\n",
    "\n",
    "The, Controlled Rotation operator $CROT_k$ will be the 4x4 matrix:\n",
    "\n",
    "$$CROT_k = \\left[\\begin{matrix}\n",
    "I&0\\\\\n",
    "0&UROT_k\\\\\n",
    "\\end{matrix}\\right]$$\n",
    "\n",
    "Remember that $\\vert x_ix_j\\rangle=\\vert x_i\\rangle\\otimes\\vert x_j\\rangle$ which is a columns vector with four entries, so the operation $CROT_k\\vert x_ix_j\\rangle$ is dimentionally consistent. The first qubit $x_i$ is the control qubit and tha second, $x_j$ is the target one. So, as an example, se what happens when applying CROT to $\\vert0x_j\\rangle$ and $\\vert1x_j\\rangle$:\n",
    "\n",
    "\\begin{align*}CROT_k\\vert 0x_j\\rangle&=CROT_k\\vert 0\\rangle\\otimes\\vert x_j\\rangle=\\left[\\begin{matrix}\n",
    "I&0\\\\\n",
    "0&UROT_k\\\\\n",
    "\\end{matrix}\\right]\\left(\\begin{matrix}x_{j1}\\\\x_{j2}\\\\0\\\\0\\end{matrix}\\right)\\\\\n",
    "&=\\left(\\begin{matrix}x_{j1}\\\\x_{j2}\\\\0\\\\0\\end{matrix}\\right)\\\\&=\\vert0x_j\\rangle\\end{align*}\n",
    "\n",
    "\\begin{align*}CROT_k\\vert 1x_j\\rangle&=CROT_k\\vert 1\\rangle\\otimes\\vert x_j\\rangle=\\left[\\begin{matrix}\n",
    "I&0\\\\\n",
    "0&UROT_k\\\\\n",
    "\\end{matrix}\\right]\\left(\\begin{matrix}0\\\\0\\\\x_{j1}\\\\x_{j2}\\end{matrix}\\right)\\\\&=\\left(\\begin{matrix}0\\\\0\\\\x_{j1}\\\\e^{2\\pi i/2^k}x_{j2}\\end{matrix}\\right)=\\vert1\\rangle\\otimes\\left(\\begin{matrix}e^{2\\pi i\\cdot0/2^k}x_{j1}\\\\e^{2\\pi i/2^k}x_{j2}\\end{matrix}\\right)\\\\&=e^{2\\pi x_j/2^k}\\vert1x_j\\rangle\\end{align*}\n",
    "\n",
    "The QFT circuit is represented below:\n",
    "\n",
    "![](images/qft.png)\n",
    "\n"
   ]
  },
  {
   "cell_type": "markdown",
   "metadata": {},
   "source": [
    "Let's see what's the state becomes on each checkpoited step:\n",
    "\n",
    "The input is the $n$-qubit state $\\vert x\\rangle=\\vert x_1x_2\\ldots x_n\\rangle$\n",
    "\n",
    "- **Step 1:** Applys Hadamard gate on the first qubit. The state after that will be:\n",
    "\n",
    "$$\\dfrac{1}{\\sqrt2}\\left[\\vert0\\rangle+e^{2\\pi i x_12^{-1}}\\vert1\\rangle\\right]\\otimes\\vert x_2x_3\\ldots x_n\\rangle$$\n",
    "\n",
    "- **Step 2:** Applys Unitary Rotarion $UROT_2$ on the first qubit, controlled by the second. State after that:\n",
    "\n",
    "$$\\dfrac{1}{\\sqrt2}\\left[\\vert0\\rangle+e^{2\\pi i x_22^{-2}}e^{2\\pi i x_12^{-1}}\\vert1\\rangle\\right]\\otimes\\vert x_2x_3\\ldots x_n\\rangle$$\n",
    "\n",
    "- **Step 3:** After applying $UROT_k$ on qubit 1 controlled on qubit $k$ with $k$ from 2 to $n$, well get, following the above pattern:\n",
    "\n",
    "$$\\dfrac{1}{\\sqrt2}\\left[\\vert0\\rangle+e^{2\\pi i x_n2^{-n}}e^{2\\pi i x_{n-1}2^{-(n-1)}}\\ldots e^{2\\pi i x_22^{-2}}e^{2\\pi i x_1 2^{-1}}\\vert1\\rangle\\right]\\otimes\\vert x_2x_3\\ldots x_n\\rangle$$\n",
    "\n",
    "which is equal:\n",
    "\n",
    "$$\\dfrac{1}{\\sqrt2}\\left[\\vert0\\rangle+\\exp{\\left(2\\pi i\\sum_{k=1}^nx_k2^{-k}\\right)}\\vert1\\rangle\\right]\\otimes\\vert x_2x_3\\ldots x_n\\rangle$$\n",
    "\n",
    "But $x$ in decimal base is $x=\\displaystyle\\sum_{k=1}^nx_k2^{n-k}$, so whats inside the above exponential is just $2\\pi i x/2^n$, we then simplyfies the output to:\n",
    "\n",
    "$$\\dfrac{1}{\\sqrt2}\\left[\\vert0\\rangle+e^{2\\pi i x2^{-n}}\\vert1\\rangle\\right]\\otimes\\vert x_2x_3\\ldots x_n\\rangle$$\n",
    "\n",
    "- **Step 4:** We now apply the above block of steps to the remaining qubits, the process is very similar, and in the end the final state will be:\n",
    "\n",
    "$$\\frac{1}{\\sqrt{2}}\n",
    "\\left[\\vert0\\rangle + \n",
    "e^{2\\pi i x2^{-n}}\n",
    "\\vert1\\rangle\\right]\n",
    "\\otimes\n",
    "\\frac{1}{\\sqrt{2}}\n",
    "\\left[\\vert0\\rangle + \n",
    "e^{2\\pi i x2^{-(n-1)}}\n",
    "\\vert1\\rangle\\right]\n",
    "\\otimes\n",
    "\\ldots\n",
    "\\otimes\n",
    "\\frac{1}{\\sqrt{2}}\n",
    "\\left[\\vert0\\rangle + \n",
    "e^{2\\pi i x2^{-2}}\n",
    "\\vert1\\rangle\\right]\n",
    "\\otimes\n",
    "\\frac{1}{\\sqrt{2}}\n",
    "\\left[\\vert0\\rangle + \n",
    "e^{2\\pi i x2^{-1}}\n",
    "\\vert1\\rangle\\right]\n",
    "$$\n",
    "\n",
    "The constants multiplies to $\\frac{1}{\\sqrt N}$, so what we get as final state is just the formula derived previously, but in reversed order. Notice that the first transformed qubit is $\\vert0\\rangle + \n",
    "e^{2\\pi i x2^{-n}}\n",
    "\\vert1\\rangle$, where it was supposed to be $\\vert0\\rangle + \n",
    "e^{2\\pi i x2^{-1}}\n",
    "\\vert1\\rangle$ in our desired QFT formula, but that's not a problem at all, we just reverse the order of qubits and done!"
   ]
  },
  {
   "cell_type": "code",
   "execution_count": 3,
   "metadata": {},
   "outputs": [],
   "source": [
    "import numpy as np\n",
    "from numpy import pi\n",
    "import warnings\n",
    "warnings.filterwarnings(\"ignore\")\n",
    "# importing Qiskit\n",
    "from qiskit import QuantumCircuit, transpile, assemble, Aer, IBMQ\n",
    "from qiskit.providers.ibmq import least_busy\n",
    "from qiskit.tools.monitor import job_monitor\n",
    "from qiskit.visualization import plot_histogram, plot_bloch_multivector\n"
   ]
  },
  {
   "cell_type": "code",
   "execution_count": 7,
   "metadata": {},
   "outputs": [
    {
     "ename": "IBMQAccountCredentialsNotFound",
     "evalue": "'No IBM Quantum Experience credentials found.'",
     "output_type": "error",
     "traceback": [
      "\u001b[1;31m---------------------------------------------------------------------------\u001b[0m",
      "\u001b[1;31mIBMQAccountCredentialsNotFound\u001b[0m            Traceback (most recent call last)",
      "\u001b[1;32m~\\AppData\\Local\\Temp/ipykernel_20620/4028026050.py\u001b[0m in \u001b[0;36m<module>\u001b[1;34m\u001b[0m\n\u001b[0;32m      1\u001b[0m \u001b[0mqc\u001b[0m \u001b[1;33m=\u001b[0m \u001b[0mQuantumCircuit\u001b[0m\u001b[1;33m(\u001b[0m\u001b[1;36m3\u001b[0m\u001b[1;33m)\u001b[0m\u001b[1;33m\u001b[0m\u001b[1;33m\u001b[0m\u001b[0m\n\u001b[1;32m----> 2\u001b[1;33m \u001b[0mIBMQ\u001b[0m\u001b[1;33m.\u001b[0m\u001b[0mload_account\u001b[0m\u001b[1;33m(\u001b[0m\u001b[1;33m)\u001b[0m\u001b[1;33m\u001b[0m\u001b[1;33m\u001b[0m\u001b[0m\n\u001b[0m",
      "\u001b[1;32mC:\\ProgramData\\Anaconda3\\envs\\qiskit2\\lib\\site-packages\\qiskit\\providers\\ibmq\\ibmqfactory.py\u001b[0m in \u001b[0;36mload_account\u001b[1;34m(self)\u001b[0m\n\u001b[0;32m    172\u001b[0m \u001b[1;33m\u001b[0m\u001b[0m\n\u001b[0;32m    173\u001b[0m         \u001b[1;32mif\u001b[0m \u001b[1;32mnot\u001b[0m \u001b[0mcredentials_list\u001b[0m\u001b[1;33m:\u001b[0m\u001b[1;33m\u001b[0m\u001b[1;33m\u001b[0m\u001b[0m\n\u001b[1;32m--> 174\u001b[1;33m             raise IBMQAccountCredentialsNotFound(\n\u001b[0m\u001b[0;32m    175\u001b[0m                 'No IBM Quantum Experience credentials found.')\n\u001b[0;32m    176\u001b[0m \u001b[1;33m\u001b[0m\u001b[0m\n",
      "\u001b[1;31mIBMQAccountCredentialsNotFound\u001b[0m: 'No IBM Quantum Experience credentials found.'"
     ]
    }
   ],
   "source": [
    "qc = QuantumCircuit(3)\n",
    "IBMQ.load_account()"
   ]
  },
  {
   "cell_type": "code",
   "execution_count": 5,
   "metadata": {},
   "outputs": [
    {
     "data": {
      "text/html": [
       "<pre style=\"word-wrap: normal;white-space: pre;background: #fff0;line-height: 1.1;font-family: &quot;Courier New&quot;,Courier,monospace\">          \n",
       "q_0: ─────\n",
       "          \n",
       "q_1: ─────\n",
       "     ┌───┐\n",
       "q_2: ┤ H ├\n",
       "     └───┘</pre>"
      ],
      "text/plain": [
       "          \n",
       "q_0: ─────\n",
       "          \n",
       "q_1: ─────\n",
       "     ┌───┐\n",
       "q_2: ┤ H ├\n",
       "     └───┘"
      ]
     },
     "execution_count": 5,
     "metadata": {},
     "output_type": "execute_result"
    }
   ],
   "source": [
    "qc.h(2)\n",
    "qc.draw()"
   ]
  },
  {
   "cell_type": "code",
   "execution_count": 4,
   "metadata": {},
   "outputs": [
    {
     "data": {
      "text/html": [
       "<pre style=\"word-wrap: normal;white-space: pre;background: #fff0;line-height: 1.1;font-family: &quot;Courier New&quot;,Courier,monospace\">                   \n",
       "q_0: ──────────────\n",
       "                   \n",
       "q_1: ──────■───────\n",
       "     ┌───┐ │P(π/2) \n",
       "q_2: ┤ H ├─■───────\n",
       "     └───┘         </pre>"
      ],
      "text/plain": [
       "                   \n",
       "q_0: ──────────────\n",
       "                   \n",
       "q_1: ──────■───────\n",
       "     ┌───┐ │P(π/2) \n",
       "q_2: ┤ H ├─■───────\n",
       "     └───┘         "
      ]
     },
     "execution_count": 4,
     "metadata": {},
     "output_type": "execute_result"
    }
   ],
   "source": [
    "qc.cp(pi/2, 1, 2) # CROT from qubit 1 to qubit 2\n",
    "qc.draw()"
   ]
  }
 ],
 "metadata": {
  "kernelspec": {
   "display_name": "qiskit_kernel",
   "language": "python",
   "name": "qiskit_kernel"
  },
  "language_info": {
   "codemirror_mode": {
    "name": "ipython",
    "version": 3
   },
   "file_extension": ".py",
   "mimetype": "text/x-python",
   "name": "python",
   "nbconvert_exporter": "python",
   "pygments_lexer": "ipython3",
   "version": "3.8.5"
  }
 },
 "nbformat": 4,
 "nbformat_minor": 4
}
